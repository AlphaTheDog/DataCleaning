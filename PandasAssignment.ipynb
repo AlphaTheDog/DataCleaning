{
 "cells": [
  {
   "cell_type": "code",
   "execution_count": 1,
   "id": "8db0bc08-5d5b-4b05-a2be-8c2d09ee5636",
   "metadata": {},
   "outputs": [
    {
     "name": "stderr",
     "output_type": "stream",
     "text": [
      "/tmp/ipykernel_3232/1710698203.py:7: DeprecationWarning: \n",
      "Pyarrow will become a required dependency of pandas in the next major release of pandas (pandas 3.0),\n",
      "(to allow more performant data types, such as the Arrow string type, and better interoperability with other libraries)\n",
      "but was not found to be installed on your system.\n",
      "If this would cause problems for you,\n",
      "please provide us feedback at https://github.com/pandas-dev/pandas/issues/54466\n",
      "        \n",
      "  import pandas as pd\n"
     ]
    }
   ],
   "source": [
    "# Importing the libraries we will need\n",
    "\n",
    "# Importing the pandas library\n",
    "#\n",
    "\n",
    "# Importing the numpy library\n",
    "import pandas as pd\n",
    "import numpy as np"
   ]
  },
  {
   "cell_type": "code",
   "execution_count": 2,
   "id": "36610b96-9224-459a-a606-be3523045d4d",
   "metadata": {},
   "outputs": [],
   "source": [
    "# Let's read the data from the CSV file and create the dataframe to be used\n",
    "path=\"/home/alpha/Downloads/Rural_Urban_Population_By_Age_Sex_and_by_District__2009.csv\"\n",
    "df=pd.read_csv(path,sep=\",\")"
   ]
  },
  {
   "cell_type": "code",
   "execution_count": 9,
   "id": "0605c6c5-c68e-4598-a646-e10323d25f3b",
   "metadata": {},
   "outputs": [
    {
     "data": {
      "text/html": [
       "<div>\n",
       "<style scoped>\n",
       "    .dataframe tbody tr th:only-of-type {\n",
       "        vertical-align: middle;\n",
       "    }\n",
       "\n",
       "    .dataframe tbody tr th {\n",
       "        vertical-align: top;\n",
       "    }\n",
       "\n",
       "    .dataframe thead th {\n",
       "        text-align: right;\n",
       "    }\n",
       "</style>\n",
       "<table border=\"1\" class=\"dataframe\">\n",
       "  <thead>\n",
       "    <tr style=\"text-align: right;\">\n",
       "      <th></th>\n",
       "      <th>District</th>\n",
       "      <th>Urban/Rural</th>\n",
       "      <th>Age_years</th>\n",
       "      <th>Male</th>\n",
       "      <th>Female</th>\n",
       "      <th>Total</th>\n",
       "      <th>County</th>\n",
       "      <th>Province</th>\n",
       "      <th>OBJECTID</th>\n",
       "    </tr>\n",
       "  </thead>\n",
       "  <tbody>\n",
       "    <tr>\n",
       "      <th>0</th>\n",
       "      <td>NAIROBI WEST</td>\n",
       "      <td>Urban</td>\n",
       "      <td>0</td>\n",
       "      <td>10126</td>\n",
       "      <td>10116</td>\n",
       "      <td>20242</td>\n",
       "      <td>Nairobi</td>\n",
       "      <td>NAIROBI</td>\n",
       "      <td>0</td>\n",
       "    </tr>\n",
       "    <tr>\n",
       "      <th>1</th>\n",
       "      <td>NAIROBI WEST</td>\n",
       "      <td>Urban</td>\n",
       "      <td>1</td>\n",
       "      <td>8124</td>\n",
       "      <td>7989</td>\n",
       "      <td>16113</td>\n",
       "      <td>Nairobi</td>\n",
       "      <td>NAIROBI</td>\n",
       "      <td>1</td>\n",
       "    </tr>\n",
       "    <tr>\n",
       "      <th>2</th>\n",
       "      <td>NAIROBI WEST</td>\n",
       "      <td>Urban</td>\n",
       "      <td>2</td>\n",
       "      <td>8462</td>\n",
       "      <td>8627</td>\n",
       "      <td>17089</td>\n",
       "      <td>Nairobi</td>\n",
       "      <td>NAIROBI</td>\n",
       "      <td>2</td>\n",
       "    </tr>\n",
       "    <tr>\n",
       "      <th>3</th>\n",
       "      <td>NAIROBI WEST</td>\n",
       "      <td>Urban</td>\n",
       "      <td>3</td>\n",
       "      <td>8334</td>\n",
       "      <td>8420</td>\n",
       "      <td>16754</td>\n",
       "      <td>Nairobi</td>\n",
       "      <td>NAIROBI</td>\n",
       "      <td>3</td>\n",
       "    </tr>\n",
       "    <tr>\n",
       "      <th>4</th>\n",
       "      <td>NAIROBI WEST</td>\n",
       "      <td>Urban</td>\n",
       "      <td>4</td>\n",
       "      <td>7948</td>\n",
       "      <td>7820</td>\n",
       "      <td>15768</td>\n",
       "      <td>Nairobi</td>\n",
       "      <td>NAIROBI</td>\n",
       "      <td>4</td>\n",
       "    </tr>\n",
       "    <tr>\n",
       "      <th>5</th>\n",
       "      <td>NAIROBI WEST</td>\n",
       "      <td>Urban</td>\n",
       "      <td>5</td>\n",
       "      <td>7547</td>\n",
       "      <td>7660</td>\n",
       "      <td>15207</td>\n",
       "      <td>Nairobi</td>\n",
       "      <td>NAIROBI</td>\n",
       "      <td>5</td>\n",
       "    </tr>\n",
       "    <tr>\n",
       "      <th>6</th>\n",
       "      <td>NAIROBI WEST</td>\n",
       "      <td>Urban</td>\n",
       "      <td>6</td>\n",
       "      <td>6966</td>\n",
       "      <td>7082</td>\n",
       "      <td>14048</td>\n",
       "      <td>Nairobi</td>\n",
       "      <td>NAIROBI</td>\n",
       "      <td>6</td>\n",
       "    </tr>\n",
       "    <tr>\n",
       "      <th>7</th>\n",
       "      <td>NAIROBI WEST</td>\n",
       "      <td>Urban</td>\n",
       "      <td>7</td>\n",
       "      <td>6511</td>\n",
       "      <td>6674</td>\n",
       "      <td>13185</td>\n",
       "      <td>Nairobi</td>\n",
       "      <td>NAIROBI</td>\n",
       "      <td>7</td>\n",
       "    </tr>\n",
       "    <tr>\n",
       "      <th>8</th>\n",
       "      <td>NAIROBI WEST</td>\n",
       "      <td>Urban</td>\n",
       "      <td>8</td>\n",
       "      <td>6171</td>\n",
       "      <td>6489</td>\n",
       "      <td>12660</td>\n",
       "      <td>Nairobi</td>\n",
       "      <td>NAIROBI</td>\n",
       "      <td>8</td>\n",
       "    </tr>\n",
       "    <tr>\n",
       "      <th>9</th>\n",
       "      <td>NAIROBI WEST</td>\n",
       "      <td>Urban</td>\n",
       "      <td>9</td>\n",
       "      <td>6361</td>\n",
       "      <td>6662</td>\n",
       "      <td>13023</td>\n",
       "      <td>Nairobi</td>\n",
       "      <td>NAIROBI</td>\n",
       "      <td>9</td>\n",
       "    </tr>\n",
       "  </tbody>\n",
       "</table>\n",
       "</div>"
      ],
      "text/plain": [
       "       District Urban/Rural Age_years   Male  Female  Total   County Province  \\\n",
       "0  NAIROBI WEST       Urban         0  10126   10116  20242  Nairobi  NAIROBI   \n",
       "1  NAIROBI WEST       Urban         1   8124    7989  16113  Nairobi  NAIROBI   \n",
       "2  NAIROBI WEST       Urban         2   8462    8627  17089  Nairobi  NAIROBI   \n",
       "3  NAIROBI WEST       Urban         3   8334    8420  16754  Nairobi  NAIROBI   \n",
       "4  NAIROBI WEST       Urban         4   7948    7820  15768  Nairobi  NAIROBI   \n",
       "5  NAIROBI WEST       Urban         5   7547    7660  15207  Nairobi  NAIROBI   \n",
       "6  NAIROBI WEST       Urban         6   6966    7082  14048  Nairobi  NAIROBI   \n",
       "7  NAIROBI WEST       Urban         7   6511    6674  13185  Nairobi  NAIROBI   \n",
       "8  NAIROBI WEST       Urban         8   6171    6489  12660  Nairobi  NAIROBI   \n",
       "9  NAIROBI WEST       Urban         9   6361    6662  13023  Nairobi  NAIROBI   \n",
       "\n",
       "   OBJECTID  \n",
       "0         0  \n",
       "1         1  \n",
       "2         2  \n",
       "3         3  \n",
       "4         4  \n",
       "5         5  \n",
       "6         6  \n",
       "7         7  \n",
       "8         8  \n",
       "9         9  "
      ]
     },
     "execution_count": 9,
     "metadata": {},
     "output_type": "execute_result"
    }
   ],
   "source": [
    "# Let's preview the first 10 rows of our data\n",
    "df.head(10)"
   ]
  },
  {
   "cell_type": "code",
   "execution_count": 17,
   "id": "090a9945-e36d-4833-ad8e-f78b95ed15c1",
   "metadata": {},
   "outputs": [
    {
     "data": {
      "text/html": [
       "<div>\n",
       "<style scoped>\n",
       "    .dataframe tbody tr th:only-of-type {\n",
       "        vertical-align: middle;\n",
       "    }\n",
       "\n",
       "    .dataframe tbody tr th {\n",
       "        vertical-align: top;\n",
       "    }\n",
       "\n",
       "    .dataframe thead th {\n",
       "        text-align: right;\n",
       "    }\n",
       "</style>\n",
       "<table border=\"1\" class=\"dataframe\">\n",
       "  <thead>\n",
       "    <tr style=\"text-align: right;\">\n",
       "      <th></th>\n",
       "      <th>Province</th>\n",
       "      <th>County</th>\n",
       "      <th>District</th>\n",
       "      <th>Urban/Rural</th>\n",
       "      <th>Age_years</th>\n",
       "      <th>Total</th>\n",
       "      <th>Male</th>\n",
       "      <th>Female</th>\n",
       "    </tr>\n",
       "  </thead>\n",
       "  <tbody>\n",
       "    <tr>\n",
       "      <th>0</th>\n",
       "      <td>NAIROBI</td>\n",
       "      <td>Nairobi</td>\n",
       "      <td>NAIROBI WEST</td>\n",
       "      <td>Urban</td>\n",
       "      <td>0</td>\n",
       "      <td>20242</td>\n",
       "      <td>10126</td>\n",
       "      <td>10116</td>\n",
       "    </tr>\n",
       "    <tr>\n",
       "      <th>1</th>\n",
       "      <td>NAIROBI</td>\n",
       "      <td>Nairobi</td>\n",
       "      <td>NAIROBI WEST</td>\n",
       "      <td>Urban</td>\n",
       "      <td>1</td>\n",
       "      <td>16113</td>\n",
       "      <td>8124</td>\n",
       "      <td>7989</td>\n",
       "    </tr>\n",
       "    <tr>\n",
       "      <th>2</th>\n",
       "      <td>NAIROBI</td>\n",
       "      <td>Nairobi</td>\n",
       "      <td>NAIROBI WEST</td>\n",
       "      <td>Urban</td>\n",
       "      <td>2</td>\n",
       "      <td>17089</td>\n",
       "      <td>8462</td>\n",
       "      <td>8627</td>\n",
       "    </tr>\n",
       "    <tr>\n",
       "      <th>3</th>\n",
       "      <td>NAIROBI</td>\n",
       "      <td>Nairobi</td>\n",
       "      <td>NAIROBI WEST</td>\n",
       "      <td>Urban</td>\n",
       "      <td>3</td>\n",
       "      <td>16754</td>\n",
       "      <td>8334</td>\n",
       "      <td>8420</td>\n",
       "    </tr>\n",
       "    <tr>\n",
       "      <th>4</th>\n",
       "      <td>NAIROBI</td>\n",
       "      <td>Nairobi</td>\n",
       "      <td>NAIROBI WEST</td>\n",
       "      <td>Urban</td>\n",
       "      <td>4</td>\n",
       "      <td>15768</td>\n",
       "      <td>7948</td>\n",
       "      <td>7820</td>\n",
       "    </tr>\n",
       "    <tr>\n",
       "      <th>...</th>\n",
       "      <td>...</td>\n",
       "      <td>...</td>\n",
       "      <td>...</td>\n",
       "      <td>...</td>\n",
       "      <td>...</td>\n",
       "      <td>...</td>\n",
       "      <td>...</td>\n",
       "      <td>...</td>\n",
       "    </tr>\n",
       "    <tr>\n",
       "      <th>25415</th>\n",
       "      <td>WESTERN</td>\n",
       "      <td>Busia</td>\n",
       "      <td>TESO SOUTH</td>\n",
       "      <td>Rural</td>\n",
       "      <td>77</td>\n",
       "      <td>185</td>\n",
       "      <td>99</td>\n",
       "      <td>86</td>\n",
       "    </tr>\n",
       "    <tr>\n",
       "      <th>25416</th>\n",
       "      <td>WESTERN</td>\n",
       "      <td>Busia</td>\n",
       "      <td>TESO SOUTH</td>\n",
       "      <td>Rural</td>\n",
       "      <td>78</td>\n",
       "      <td>110</td>\n",
       "      <td>63</td>\n",
       "      <td>47</td>\n",
       "    </tr>\n",
       "    <tr>\n",
       "      <th>25417</th>\n",
       "      <td>WESTERN</td>\n",
       "      <td>Busia</td>\n",
       "      <td>TESO SOUTH</td>\n",
       "      <td>Rural</td>\n",
       "      <td>79</td>\n",
       "      <td>211</td>\n",
       "      <td>90</td>\n",
       "      <td>121</td>\n",
       "    </tr>\n",
       "    <tr>\n",
       "      <th>25418</th>\n",
       "      <td>WESTERN</td>\n",
       "      <td>Busia</td>\n",
       "      <td>TESO SOUTH</td>\n",
       "      <td>Rural</td>\n",
       "      <td>80+</td>\n",
       "      <td>775</td>\n",
       "      <td>384</td>\n",
       "      <td>391</td>\n",
       "    </tr>\n",
       "    <tr>\n",
       "      <th>25419</th>\n",
       "      <td>WESTERN</td>\n",
       "      <td>Busia</td>\n",
       "      <td>TESO SOUTH</td>\n",
       "      <td>Rural</td>\n",
       "      <td>Age NS</td>\n",
       "      <td>48</td>\n",
       "      <td>25</td>\n",
       "      <td>23</td>\n",
       "    </tr>\n",
       "  </tbody>\n",
       "</table>\n",
       "<p>25420 rows × 8 columns</p>\n",
       "</div>"
      ],
      "text/plain": [
       "      Province   County      District Urban/Rural Age_years  Total   Male  \\\n",
       "0      NAIROBI  Nairobi  NAIROBI WEST       Urban         0  20242  10126   \n",
       "1      NAIROBI  Nairobi  NAIROBI WEST       Urban         1  16113   8124   \n",
       "2      NAIROBI  Nairobi  NAIROBI WEST       Urban         2  17089   8462   \n",
       "3      NAIROBI  Nairobi  NAIROBI WEST       Urban         3  16754   8334   \n",
       "4      NAIROBI  Nairobi  NAIROBI WEST       Urban         4  15768   7948   \n",
       "...        ...      ...           ...         ...       ...    ...    ...   \n",
       "25415  WESTERN    Busia    TESO SOUTH       Rural        77    185     99   \n",
       "25416  WESTERN    Busia    TESO SOUTH       Rural        78    110     63   \n",
       "25417  WESTERN    Busia    TESO SOUTH       Rural        79    211     90   \n",
       "25418  WESTERN    Busia    TESO SOUTH       Rural       80+    775    384   \n",
       "25419  WESTERN    Busia    TESO SOUTH       Rural    Age NS     48     25   \n",
       "\n",
       "       Female  \n",
       "0       10116  \n",
       "1        7989  \n",
       "2        8627  \n",
       "3        8420  \n",
       "4        7820  \n",
       "...       ...  \n",
       "25415      86  \n",
       "25416      47  \n",
       "25417     121  \n",
       "25418     391  \n",
       "25419      23  \n",
       "\n",
       "[25420 rows x 8 columns]"
      ]
     },
     "execution_count": 17,
     "metadata": {},
     "output_type": "execute_result"
    }
   ],
   "source": [
    "cols=df.columns\n",
    "new_cols=['OBJECTID','Province','County','District','Urban/Rural','Age_years','Total','Male','Female']\n",
    "df1=df.reindex(columns=new_cols).copy()\n",
    "df1.drop('OBJECTID',inplace=True,axis=1)\n",
    "df1"
   ]
  },
  {
   "cell_type": "code",
   "execution_count": null,
   "id": "2d92124f-3517-4b5d-b197-15f984ee7528",
   "metadata": {},
   "outputs": [],
   "source": [
    "making sure Total=Female+male"
   ]
  },
  {
   "cell_type": "code",
   "execution_count": 21,
   "id": "1c8596e7-59b1-4996-8c52-3fc2beb7695a",
   "metadata": {},
   "outputs": [
    {
     "data": {
      "text/html": [
       "<div>\n",
       "<style scoped>\n",
       "    .dataframe tbody tr th:only-of-type {\n",
       "        vertical-align: middle;\n",
       "    }\n",
       "\n",
       "    .dataframe tbody tr th {\n",
       "        vertical-align: top;\n",
       "    }\n",
       "\n",
       "    .dataframe thead th {\n",
       "        text-align: right;\n",
       "    }\n",
       "</style>\n",
       "<table border=\"1\" class=\"dataframe\">\n",
       "  <thead>\n",
       "    <tr style=\"text-align: right;\">\n",
       "      <th></th>\n",
       "      <th>Province</th>\n",
       "      <th>County</th>\n",
       "      <th>District</th>\n",
       "      <th>Urban/Rural</th>\n",
       "      <th>Age_years</th>\n",
       "      <th>Total</th>\n",
       "      <th>Male</th>\n",
       "      <th>Female</th>\n",
       "      <th>total</th>\n",
       "      <th>equals</th>\n",
       "    </tr>\n",
       "  </thead>\n",
       "  <tbody>\n",
       "  </tbody>\n",
       "</table>\n",
       "</div>"
      ],
      "text/plain": [
       "Empty DataFrame\n",
       "Columns: [Province, County, District, Urban/Rural, Age_years, Total, Male, Female, total, equals]\n",
       "Index: []"
      ]
     },
     "execution_count": 21,
     "metadata": {},
     "output_type": "execute_result"
    }
   ],
   "source": [
    "df1['total']=df1['Male']+df1['Female']\n",
    "df1['equals']=df1['total']==df['Total']\n",
    "df1.loc[df1['equals']!=True]"
   ]
  },
  {
   "cell_type": "code",
   "execution_count": 22,
   "id": "9eccff65-1b56-4775-8085-7f724e141872",
   "metadata": {},
   "outputs": [
    {
     "data": {
      "text/html": [
       "<div>\n",
       "<style scoped>\n",
       "    .dataframe tbody tr th:only-of-type {\n",
       "        vertical-align: middle;\n",
       "    }\n",
       "\n",
       "    .dataframe tbody tr th {\n",
       "        vertical-align: top;\n",
       "    }\n",
       "\n",
       "    .dataframe thead th {\n",
       "        text-align: right;\n",
       "    }\n",
       "</style>\n",
       "<table border=\"1\" class=\"dataframe\">\n",
       "  <thead>\n",
       "    <tr style=\"text-align: right;\">\n",
       "      <th></th>\n",
       "      <th>Province</th>\n",
       "      <th>County</th>\n",
       "      <th>District</th>\n",
       "      <th>Urban/Rural</th>\n",
       "      <th>Age_years</th>\n",
       "      <th>Total</th>\n",
       "      <th>Male</th>\n",
       "      <th>Female</th>\n",
       "      <th>total</th>\n",
       "      <th>equals</th>\n",
       "    </tr>\n",
       "  </thead>\n",
       "  <tbody>\n",
       "  </tbody>\n",
       "</table>\n",
       "</div>"
      ],
      "text/plain": [
       "Empty DataFrame\n",
       "Columns: [Province, County, District, Urban/Rural, Age_years, Total, Male, Female, total, equals]\n",
       "Index: []"
      ]
     },
     "execution_count": 22,
     "metadata": {},
     "output_type": "execute_result"
    }
   ],
   "source": [
    "df1.loc[df1['Total']!=df1['Male']+df1['Female']]"
   ]
  },
  {
   "cell_type": "code",
   "execution_count": 23,
   "id": "f5236a7c-8502-4294-844d-947ec0db2112",
   "metadata": {},
   "outputs": [],
   "source": [
    "df1.drop(['total','equals'],axis=1,inplace=True)"
   ]
  },
  {
   "cell_type": "code",
   "execution_count": 24,
   "id": "13434471-86bc-4061-ac17-d2c964afc793",
   "metadata": {},
   "outputs": [
    {
     "data": {
      "text/html": [
       "<div>\n",
       "<style scoped>\n",
       "    .dataframe tbody tr th:only-of-type {\n",
       "        vertical-align: middle;\n",
       "    }\n",
       "\n",
       "    .dataframe tbody tr th {\n",
       "        vertical-align: top;\n",
       "    }\n",
       "\n",
       "    .dataframe thead th {\n",
       "        text-align: right;\n",
       "    }\n",
       "</style>\n",
       "<table border=\"1\" class=\"dataframe\">\n",
       "  <thead>\n",
       "    <tr style=\"text-align: right;\">\n",
       "      <th></th>\n",
       "      <th>Province</th>\n",
       "      <th>County</th>\n",
       "      <th>District</th>\n",
       "      <th>Urban/Rural</th>\n",
       "      <th>Age_years</th>\n",
       "      <th>Total</th>\n",
       "      <th>Male</th>\n",
       "      <th>Female</th>\n",
       "    </tr>\n",
       "  </thead>\n",
       "  <tbody>\n",
       "    <tr>\n",
       "      <th>0</th>\n",
       "      <td>NAIROBI</td>\n",
       "      <td>Nairobi</td>\n",
       "      <td>NAIROBI WEST</td>\n",
       "      <td>Urban</td>\n",
       "      <td>0</td>\n",
       "      <td>20242</td>\n",
       "      <td>10126</td>\n",
       "      <td>10116</td>\n",
       "    </tr>\n",
       "    <tr>\n",
       "      <th>1</th>\n",
       "      <td>NAIROBI</td>\n",
       "      <td>Nairobi</td>\n",
       "      <td>NAIROBI WEST</td>\n",
       "      <td>Urban</td>\n",
       "      <td>1</td>\n",
       "      <td>16113</td>\n",
       "      <td>8124</td>\n",
       "      <td>7989</td>\n",
       "    </tr>\n",
       "    <tr>\n",
       "      <th>2</th>\n",
       "      <td>NAIROBI</td>\n",
       "      <td>Nairobi</td>\n",
       "      <td>NAIROBI WEST</td>\n",
       "      <td>Urban</td>\n",
       "      <td>2</td>\n",
       "      <td>17089</td>\n",
       "      <td>8462</td>\n",
       "      <td>8627</td>\n",
       "    </tr>\n",
       "    <tr>\n",
       "      <th>3</th>\n",
       "      <td>NAIROBI</td>\n",
       "      <td>Nairobi</td>\n",
       "      <td>NAIROBI WEST</td>\n",
       "      <td>Urban</td>\n",
       "      <td>3</td>\n",
       "      <td>16754</td>\n",
       "      <td>8334</td>\n",
       "      <td>8420</td>\n",
       "    </tr>\n",
       "    <tr>\n",
       "      <th>4</th>\n",
       "      <td>NAIROBI</td>\n",
       "      <td>Nairobi</td>\n",
       "      <td>NAIROBI WEST</td>\n",
       "      <td>Urban</td>\n",
       "      <td>4</td>\n",
       "      <td>15768</td>\n",
       "      <td>7948</td>\n",
       "      <td>7820</td>\n",
       "    </tr>\n",
       "    <tr>\n",
       "      <th>...</th>\n",
       "      <td>...</td>\n",
       "      <td>...</td>\n",
       "      <td>...</td>\n",
       "      <td>...</td>\n",
       "      <td>...</td>\n",
       "      <td>...</td>\n",
       "      <td>...</td>\n",
       "      <td>...</td>\n",
       "    </tr>\n",
       "    <tr>\n",
       "      <th>25415</th>\n",
       "      <td>WESTERN</td>\n",
       "      <td>Busia</td>\n",
       "      <td>TESO SOUTH</td>\n",
       "      <td>Rural</td>\n",
       "      <td>77</td>\n",
       "      <td>185</td>\n",
       "      <td>99</td>\n",
       "      <td>86</td>\n",
       "    </tr>\n",
       "    <tr>\n",
       "      <th>25416</th>\n",
       "      <td>WESTERN</td>\n",
       "      <td>Busia</td>\n",
       "      <td>TESO SOUTH</td>\n",
       "      <td>Rural</td>\n",
       "      <td>78</td>\n",
       "      <td>110</td>\n",
       "      <td>63</td>\n",
       "      <td>47</td>\n",
       "    </tr>\n",
       "    <tr>\n",
       "      <th>25417</th>\n",
       "      <td>WESTERN</td>\n",
       "      <td>Busia</td>\n",
       "      <td>TESO SOUTH</td>\n",
       "      <td>Rural</td>\n",
       "      <td>79</td>\n",
       "      <td>211</td>\n",
       "      <td>90</td>\n",
       "      <td>121</td>\n",
       "    </tr>\n",
       "    <tr>\n",
       "      <th>25418</th>\n",
       "      <td>WESTERN</td>\n",
       "      <td>Busia</td>\n",
       "      <td>TESO SOUTH</td>\n",
       "      <td>Rural</td>\n",
       "      <td>80+</td>\n",
       "      <td>775</td>\n",
       "      <td>384</td>\n",
       "      <td>391</td>\n",
       "    </tr>\n",
       "    <tr>\n",
       "      <th>25419</th>\n",
       "      <td>WESTERN</td>\n",
       "      <td>Busia</td>\n",
       "      <td>TESO SOUTH</td>\n",
       "      <td>Rural</td>\n",
       "      <td>Age NS</td>\n",
       "      <td>48</td>\n",
       "      <td>25</td>\n",
       "      <td>23</td>\n",
       "    </tr>\n",
       "  </tbody>\n",
       "</table>\n",
       "<p>25420 rows × 8 columns</p>\n",
       "</div>"
      ],
      "text/plain": [
       "      Province   County      District Urban/Rural Age_years  Total   Male  \\\n",
       "0      NAIROBI  Nairobi  NAIROBI WEST       Urban         0  20242  10126   \n",
       "1      NAIROBI  Nairobi  NAIROBI WEST       Urban         1  16113   8124   \n",
       "2      NAIROBI  Nairobi  NAIROBI WEST       Urban         2  17089   8462   \n",
       "3      NAIROBI  Nairobi  NAIROBI WEST       Urban         3  16754   8334   \n",
       "4      NAIROBI  Nairobi  NAIROBI WEST       Urban         4  15768   7948   \n",
       "...        ...      ...           ...         ...       ...    ...    ...   \n",
       "25415  WESTERN    Busia    TESO SOUTH       Rural        77    185     99   \n",
       "25416  WESTERN    Busia    TESO SOUTH       Rural        78    110     63   \n",
       "25417  WESTERN    Busia    TESO SOUTH       Rural        79    211     90   \n",
       "25418  WESTERN    Busia    TESO SOUTH       Rural       80+    775    384   \n",
       "25419  WESTERN    Busia    TESO SOUTH       Rural    Age NS     48     25   \n",
       "\n",
       "       Female  \n",
       "0       10116  \n",
       "1        7989  \n",
       "2        8627  \n",
       "3        8420  \n",
       "4        7820  \n",
       "...       ...  \n",
       "25415      86  \n",
       "25416      47  \n",
       "25417     121  \n",
       "25418     391  \n",
       "25419      23  \n",
       "\n",
       "[25420 rows x 8 columns]"
      ]
     },
     "execution_count": 24,
     "metadata": {},
     "output_type": "execute_result"
    }
   ],
   "source": [
    "df1"
   ]
  },
  {
   "cell_type": "code",
   "execution_count": 29,
   "id": "c955f633-4ff1-481e-87d3-f9637302e5ce",
   "metadata": {},
   "outputs": [
    {
     "data": {
      "text/plain": [
       "0"
      ]
     },
     "execution_count": 29,
     "metadata": {},
     "output_type": "execute_result"
    }
   ],
   "source": [
    "df1.duplicated().sum()\n",
    "#No duplicate entries in our data set"
   ]
  },
  {
   "cell_type": "code",
   "execution_count": 30,
   "id": "2dd59b1c-448a-4b61-929b-b636fc3aa03d",
   "metadata": {},
   "outputs": [
    {
     "name": "stdout",
     "output_type": "stream",
     "text": [
      "Province 0\n",
      "County 0\n",
      "District 0\n",
      "Urban/Rural 0\n",
      "Age_years 0\n",
      "Total 0\n",
      "Male 0\n",
      "Female 0\n"
     ]
    }
   ],
   "source": [
    "#chhecking for null values\n",
    "for col in df1.columns:\n",
    "    nulls=df1[col].isnull().sum()\n",
    "    print(col,nulls)"
   ]
  },
  {
   "cell_type": "code",
   "execution_count": 35,
   "id": "77aa3cca-9bdc-4741-bf05-be29f7f2a747",
   "metadata": {},
   "outputs": [
    {
     "data": {
      "text/plain": [
       "array(['Urban', 'Rural'], dtype=object)"
      ]
     },
     "execution_count": 35,
     "metadata": {},
     "output_type": "execute_result"
    }
   ],
   "source": [
    "df1['Urban/Rural'].unique()"
   ]
  },
  {
   "cell_type": "code",
   "execution_count": 36,
   "id": "1b031076-b2d3-46d3-b5d9-1fbbf46205db",
   "metadata": {
    "scrolled": true
   },
   "outputs": [
    {
     "data": {
      "text/html": [
       "<div>\n",
       "<style scoped>\n",
       "    .dataframe tbody tr th:only-of-type {\n",
       "        vertical-align: middle;\n",
       "    }\n",
       "\n",
       "    .dataframe tbody tr th {\n",
       "        vertical-align: top;\n",
       "    }\n",
       "\n",
       "    .dataframe thead th {\n",
       "        text-align: right;\n",
       "    }\n",
       "</style>\n",
       "<table border=\"1\" class=\"dataframe\">\n",
       "  <thead>\n",
       "    <tr style=\"text-align: right;\">\n",
       "      <th></th>\n",
       "      <th>Province</th>\n",
       "      <th>County</th>\n",
       "      <th>District</th>\n",
       "      <th>Urban/Rural</th>\n",
       "      <th>Age_years</th>\n",
       "      <th>Total</th>\n",
       "      <th>Male</th>\n",
       "      <th>Female</th>\n",
       "    </tr>\n",
       "  </thead>\n",
       "  <tbody>\n",
       "    <tr>\n",
       "      <th>0</th>\n",
       "      <td>NAIROBI</td>\n",
       "      <td>Nairobi</td>\n",
       "      <td>NAIROBI WEST</td>\n",
       "      <td>Urban</td>\n",
       "      <td>0</td>\n",
       "      <td>20242</td>\n",
       "      <td>10126</td>\n",
       "      <td>10116</td>\n",
       "    </tr>\n",
       "    <tr>\n",
       "      <th>1</th>\n",
       "      <td>NAIROBI</td>\n",
       "      <td>Nairobi</td>\n",
       "      <td>NAIROBI WEST</td>\n",
       "      <td>Urban</td>\n",
       "      <td>1</td>\n",
       "      <td>16113</td>\n",
       "      <td>8124</td>\n",
       "      <td>7989</td>\n",
       "    </tr>\n",
       "    <tr>\n",
       "      <th>2</th>\n",
       "      <td>NAIROBI</td>\n",
       "      <td>Nairobi</td>\n",
       "      <td>NAIROBI WEST</td>\n",
       "      <td>Urban</td>\n",
       "      <td>2</td>\n",
       "      <td>17089</td>\n",
       "      <td>8462</td>\n",
       "      <td>8627</td>\n",
       "    </tr>\n",
       "    <tr>\n",
       "      <th>3</th>\n",
       "      <td>NAIROBI</td>\n",
       "      <td>Nairobi</td>\n",
       "      <td>NAIROBI WEST</td>\n",
       "      <td>Urban</td>\n",
       "      <td>3</td>\n",
       "      <td>16754</td>\n",
       "      <td>8334</td>\n",
       "      <td>8420</td>\n",
       "    </tr>\n",
       "    <tr>\n",
       "      <th>4</th>\n",
       "      <td>NAIROBI</td>\n",
       "      <td>Nairobi</td>\n",
       "      <td>NAIROBI WEST</td>\n",
       "      <td>Urban</td>\n",
       "      <td>4</td>\n",
       "      <td>15768</td>\n",
       "      <td>7948</td>\n",
       "      <td>7820</td>\n",
       "    </tr>\n",
       "    <tr>\n",
       "      <th>...</th>\n",
       "      <td>...</td>\n",
       "      <td>...</td>\n",
       "      <td>...</td>\n",
       "      <td>...</td>\n",
       "      <td>...</td>\n",
       "      <td>...</td>\n",
       "      <td>...</td>\n",
       "      <td>...</td>\n",
       "    </tr>\n",
       "    <tr>\n",
       "      <th>25415</th>\n",
       "      <td>WESTERN</td>\n",
       "      <td>Busia</td>\n",
       "      <td>TESO SOUTH</td>\n",
       "      <td>Rural</td>\n",
       "      <td>77</td>\n",
       "      <td>185</td>\n",
       "      <td>99</td>\n",
       "      <td>86</td>\n",
       "    </tr>\n",
       "    <tr>\n",
       "      <th>25416</th>\n",
       "      <td>WESTERN</td>\n",
       "      <td>Busia</td>\n",
       "      <td>TESO SOUTH</td>\n",
       "      <td>Rural</td>\n",
       "      <td>78</td>\n",
       "      <td>110</td>\n",
       "      <td>63</td>\n",
       "      <td>47</td>\n",
       "    </tr>\n",
       "    <tr>\n",
       "      <th>25417</th>\n",
       "      <td>WESTERN</td>\n",
       "      <td>Busia</td>\n",
       "      <td>TESO SOUTH</td>\n",
       "      <td>Rural</td>\n",
       "      <td>79</td>\n",
       "      <td>211</td>\n",
       "      <td>90</td>\n",
       "      <td>121</td>\n",
       "    </tr>\n",
       "    <tr>\n",
       "      <th>25418</th>\n",
       "      <td>WESTERN</td>\n",
       "      <td>Busia</td>\n",
       "      <td>TESO SOUTH</td>\n",
       "      <td>Rural</td>\n",
       "      <td>80+</td>\n",
       "      <td>775</td>\n",
       "      <td>384</td>\n",
       "      <td>391</td>\n",
       "    </tr>\n",
       "    <tr>\n",
       "      <th>25419</th>\n",
       "      <td>WESTERN</td>\n",
       "      <td>Busia</td>\n",
       "      <td>TESO SOUTH</td>\n",
       "      <td>Rural</td>\n",
       "      <td>Age NS</td>\n",
       "      <td>48</td>\n",
       "      <td>25</td>\n",
       "      <td>23</td>\n",
       "    </tr>\n",
       "  </tbody>\n",
       "</table>\n",
       "<p>25420 rows × 8 columns</p>\n",
       "</div>"
      ],
      "text/plain": [
       "      Province   County      District Urban/Rural Age_years  Total   Male  \\\n",
       "0      NAIROBI  Nairobi  NAIROBI WEST       Urban         0  20242  10126   \n",
       "1      NAIROBI  Nairobi  NAIROBI WEST       Urban         1  16113   8124   \n",
       "2      NAIROBI  Nairobi  NAIROBI WEST       Urban         2  17089   8462   \n",
       "3      NAIROBI  Nairobi  NAIROBI WEST       Urban         3  16754   8334   \n",
       "4      NAIROBI  Nairobi  NAIROBI WEST       Urban         4  15768   7948   \n",
       "...        ...      ...           ...         ...       ...    ...    ...   \n",
       "25415  WESTERN    Busia    TESO SOUTH       Rural        77    185     99   \n",
       "25416  WESTERN    Busia    TESO SOUTH       Rural        78    110     63   \n",
       "25417  WESTERN    Busia    TESO SOUTH       Rural        79    211     90   \n",
       "25418  WESTERN    Busia    TESO SOUTH       Rural       80+    775    384   \n",
       "25419  WESTERN    Busia    TESO SOUTH       Rural    Age NS     48     25   \n",
       "\n",
       "       Female  \n",
       "0       10116  \n",
       "1        7989  \n",
       "2        8627  \n",
       "3        8420  \n",
       "4        7820  \n",
       "...       ...  \n",
       "25415      86  \n",
       "25416      47  \n",
       "25417     121  \n",
       "25418     391  \n",
       "25419      23  \n",
       "\n",
       "[25420 rows x 8 columns]"
      ]
     },
     "execution_count": 36,
     "metadata": {},
     "output_type": "execute_result"
    }
   ],
   "source": [
    "df1"
   ]
  },
  {
   "cell_type": "markdown",
   "id": "de4aa4c5-5842-46df-84ae-cb9902aa95e7",
   "metadata": {},
   "source": [
    "Changing Age_years column to INT"
   ]
  },
  {
   "cell_type": "code",
   "execution_count": 61,
   "id": "855396ad-c8c1-4049-a6f7-d281cbdbc335",
   "metadata": {},
   "outputs": [],
   "source": [
    "df1.loc[df1['Age_years']=='80+','Age_years']=85"
   ]
  },
  {
   "cell_type": "code",
   "execution_count": 52,
   "id": "5d76b619-4b91-4946-a262-5fdb29c28417",
   "metadata": {},
   "outputs": [],
   "source": [
    "df1.drop(df1.loc[df['Age_years']=='Age NS'].index,inplace=True)"
   ]
  },
  {
   "cell_type": "code",
   "execution_count": null,
   "id": "e58ce5f6-3c9c-4a9e-8d07-6e8cac80602c",
   "metadata": {},
   "outputs": [],
   "source": [
    "#Setting age=1 where age=0.you cant be 0 years old\n",
    "df1.loc[df1['Age_years']==0,'Age_years']=1"
   ]
  },
  {
   "cell_type": "code",
   "execution_count": 68,
   "id": "ac8311c6-5e88-49ec-ae11-6ea841d12019",
   "metadata": {},
   "outputs": [
    {
     "data": {
      "text/plain": [
       "Province       object\n",
       "County         object\n",
       "District       object\n",
       "Urban/Rural    object\n",
       "Age_years       int64\n",
       "Total           int64\n",
       "Male            int64\n",
       "Female          int64\n",
       "dtype: object"
      ]
     },
     "execution_count": 68,
     "metadata": {},
     "output_type": "execute_result"
    }
   ],
   "source": [
    "df1.dtypes\n",
    "df1['Age_years']=df1['Age_years'].astype(np.int64)\n",
    "df1.dtypes"
   ]
  },
  {
   "cell_type": "markdown",
   "id": "5825fd6f-8573-4ba0-8163-0471d888973c",
   "metadata": {},
   "source": [
    "Dealing with entries having Total,Male or Female population being 0"
   ]
  },
  {
   "cell_type": "code",
   "execution_count": 95,
   "id": "2b284b7b-e272-459f-bfe6-86feca1e77b1",
   "metadata": {},
   "outputs": [
    {
     "name": "stdout",
     "output_type": "stream",
     "text": [
      "districts with a total population of 0 \n",
      " ['LARI' 'THIKA EAST' 'GATANGA' 'GATUNDU' 'TANA DELTA' 'CHALBI'\n",
      " 'MERU CENTRAL' 'MBEERE' 'MUTOMO' 'KYUSO' 'MBOONI' 'FAFI' 'WAJIR NORTH'\n",
      " 'WAJIR WEST' 'RARIEDA' 'KISUMU WEST' 'KURIA EAST' 'MANGA' 'TURKANA SOUTH'\n",
      " 'POKOT NORTH' 'POKOT CENTRAL' 'TRANS NZOIA EAST' 'BARINGO NORTH'\n",
      " 'EAST POKOT' 'NANDI EAST' 'NANDI SOUTH' 'TINDERET' 'LAIKIPIA NORTH'\n",
      " 'NAROK SOUTH' 'KAKAMEGA SOUTH' 'KAKAMEGA NORTH' 'HAMISI' 'SAMIA' 'KIKUYU'\n",
      " 'RUIRU' 'KANGUNDO']\n",
      "dropping rows with a total population of 0\n"
     ]
    }
   ],
   "source": [
    "zero_pop=df1.loc[df1['Total']==0]\n",
    "print(f\"districts with a total population of 0 \\n {zero_pop['District'].unique()}\")\n",
    "print(\"dropping rows with a total population of 0\")\n",
    "df1.drop(df1.loc[df1['Total']==0].index,inplace=True)"
   ]
  },
  {
   "cell_type": "code",
   "execution_count": 104,
   "id": "77a83417-dd45-40e3-8a93-52c79f2c1a95",
   "metadata": {},
   "outputs": [],
   "source": [
    "df1.loc[(df1['Male']==0) | (df1['Female']==0)]\n",
    "df1.drop(df1.loc[(df1['Male']==0) | (df1['Female']==0)].index,inplace=True)"
   ]
  },
  {
   "cell_type": "code",
   "execution_count": 106,
   "id": "3c7726cb-06a9-4a5f-b2c7-f5958fd2b9c9",
   "metadata": {},
   "outputs": [
    {
     "data": {
      "text/html": [
       "<div>\n",
       "<style scoped>\n",
       "    .dataframe tbody tr th:only-of-type {\n",
       "        vertical-align: middle;\n",
       "    }\n",
       "\n",
       "    .dataframe tbody tr th {\n",
       "        vertical-align: top;\n",
       "    }\n",
       "\n",
       "    .dataframe thead th {\n",
       "        text-align: right;\n",
       "    }\n",
       "</style>\n",
       "<table border=\"1\" class=\"dataframe\">\n",
       "  <thead>\n",
       "    <tr style=\"text-align: right;\">\n",
       "      <th></th>\n",
       "      <th>Province</th>\n",
       "      <th>County</th>\n",
       "      <th>District</th>\n",
       "      <th>Urban/Rural</th>\n",
       "      <th>Age_years</th>\n",
       "      <th>Total</th>\n",
       "      <th>Male</th>\n",
       "      <th>Female</th>\n",
       "    </tr>\n",
       "  </thead>\n",
       "  <tbody>\n",
       "  </tbody>\n",
       "</table>\n",
       "</div>"
      ],
      "text/plain": [
       "Empty DataFrame\n",
       "Columns: [Province, County, District, Urban/Rural, Age_years, Total, Male, Female]\n",
       "Index: []"
      ]
     },
     "execution_count": 106,
     "metadata": {},
     "output_type": "execute_result"
    }
   ],
   "source": [
    "df1.loc[(df1['Male']==0) | (df1['Female']==0)| (df1['Total']==0)]"
   ]
  },
  {
   "cell_type": "code",
   "execution_count": 107,
   "id": "e2240e2c-767e-447e-924e-81851a030162",
   "metadata": {},
   "outputs": [
    {
     "data": {
      "text/plain": [
       "(23268, 8)"
      ]
     },
     "execution_count": 107,
     "metadata": {},
     "output_type": "execute_result"
    }
   ],
   "source": [
    "df1.shape"
   ]
  },
  {
   "cell_type": "code",
   "execution_count": null,
   "id": "ffe6c9df-011a-409d-a8ec-01f82f0d10bc",
   "metadata": {},
   "outputs": [],
   "source": []
  },
  {
   "cell_type": "markdown",
   "id": "96a8588f-5dda-4e44-bbc1-1dab73213ed8",
   "metadata": {},
   "source": [
    "ANSWERING QUESTIONS"
   ]
  },
  {
   "cell_type": "code",
   "execution_count": 113,
   "id": "7fb00dce-f7cb-4bea-98e5-3c3bb39a7afb",
   "metadata": {},
   "outputs": [
    {
     "name": "stdout",
     "output_type": "stream",
     "text": [
      "Average age in Kenya was: 22.047903441652153\n"
     ]
    }
   ],
   "source": [
    "# Challenge 1\n",
    "# What was the average age of a person of Kenya?\n",
    "total_population=np.sum(df1['Total'])\n",
    "total_years=np.sum(df1['Age_years']*df1['Total'])\n",
    "average_age=total_years/total_population\n",
    "print(f\"Average age in Kenya was: {average_age}\")"
   ]
  },
  {
   "cell_type": "code",
   "execution_count": 114,
   "id": "d735acba-8d1e-4dd6-b112-1bb8963e4631",
   "metadata": {},
   "outputs": [
    {
     "name": "stdout",
     "output_type": "stream",
     "text": [
      "Average Female age in Kenya was: 22.332793089996606\n"
     ]
    }
   ],
   "source": [
    "# Challenge 2\n",
    "# What was the average female population in Kenya?\n",
    "female_population=np.sum(df1['Female'])\n",
    "total_years=np.sum(df1['Age_years']*df1['Female'])\n",
    "average_age=total_years/female_population\n",
    "print(f\"Average Female age in Kenya was: {average_age}\")"
   ]
  },
  {
   "cell_type": "code",
   "execution_count": 115,
   "id": "20c53685-3c0f-4c23-a748-c45c1ee85c2f",
   "metadata": {},
   "outputs": [
    {
     "name": "stdout",
     "output_type": "stream",
     "text": [
      "Average Male age in Kenya was: 21.759639285812227\n"
     ]
    }
   ],
   "source": [
    "# Challenge 3\n",
    "# What was the average male population in Kenya?\n",
    "male_population=np.sum(df1['Male'])\n",
    "total_years=np.sum(df1['Age_years']*df1['Male'])\n",
    "average_age=total_years/male_population\n",
    "print(f\"Average Male age in Kenya was: {average_age}\")"
   ]
  },
  {
   "cell_type": "code",
   "execution_count": 123,
   "id": "37b16b09-73eb-4ace-9944-ce550f2ae2d0",
   "metadata": {},
   "outputs": [
    {
     "data": {
      "text/plain": [
       "District\n",
       "NAIROBI EAST     1143734\n",
       "NAIROBI NORTH    1060256\n",
       "NAIROBI WEST      684151\n",
       "SIAYA             549791\n",
       "MOLO              541924\n",
       "Name: Total, dtype: int64"
      ]
     },
     "execution_count": 123,
     "metadata": {},
     "output_type": "execute_result"
    }
   ],
   "source": [
    "# Challenge 4\n",
    "# Which 5 districts were the most densely populated Kenya in descending order?\n",
    "district_population=df1.groupby('District')['Total'].sum()\n",
    "sorted_district_population=district_population.sort_values(ascending=False)\n",
    "sorted_district_population[:5]"
   ]
  },
  {
   "cell_type": "code",
   "execution_count": 125,
   "id": "33285ea2-5e81-49d4-aa37-0901afad2299",
   "metadata": {},
   "outputs": [
    {
     "data": {
      "text/plain": [
       "County\n",
       "Nairobi     3134798\n",
       "Kiambu      1672775\n",
       "Kakamega    1659577\n",
       "Nakuru      1602636\n",
       "Meru        1590454\n",
       "Name: Total, dtype: int64"
      ]
     },
     "execution_count": 125,
     "metadata": {},
     "output_type": "execute_result"
    }
   ],
   "source": [
    "# Challenge 5\n",
    "# Which 5 counties were the most densely populated Counties in descending order?\n",
    "counties_population=df1.groupby('County')['Total'].sum()\n",
    "sorted_counties_population=counties_population.sort_values(ascending=False)\n",
    "sorted_counties_population[:5]"
   ]
  },
  {
   "cell_type": "code",
   "execution_count": 130,
   "id": "72d431c3-91ac-4bfb-b65d-24129519783a",
   "metadata": {},
   "outputs": [
    {
     "data": {
      "text/plain": [
       "District\n",
       "SAMBURU NORTH     59785\n",
       "SAMBURU EAST      59087\n",
       "MARSABIT          46488\n",
       "GARBATULLA        43105\n",
       "LAIKIPIA NORTH    32736\n",
       "Name: Total, dtype: int64"
      ]
     },
     "execution_count": 130,
     "metadata": {},
     "output_type": "execute_result"
    }
   ],
   "source": [
    "# Challenge 6\n",
    "# Which 5 districts were the most sparsely populated in descending order?\n",
    "district_population=df1.groupby('District')['Total'].sum()\n",
    "sorted_district_population=district_population.sort_values(ascending=False)\n",
    "sorted_district_population[-5:]"
   ]
  },
  {
   "cell_type": "code",
   "execution_count": 141,
   "id": "13ad4991-f2ae-4ee7-b5b7-4a84060fdb8f",
   "metadata": {},
   "outputs": [
    {
     "name": "stdout",
     "output_type": "stream",
     "text": [
      "Nairobi :  3134798\n",
      "324 Nairobi\n",
      "9675.302469135802\n"
     ]
    }
   ],
   "source": [
    "# Challenge 7\n",
    "# What was the average population of the the most densely populated county in Kenya?\n",
    "counties_population=df1.groupby('County')['Total'].sum()\n",
    "sorted_counties_population=counties_population.sort_values(ascending=False)\n",
    "dense_county=sorted_counties_population.iloc[0]\n",
    "#ASSUMING AVERAGE MEANS TOTAL\n",
    "sorted_counties_population.index[0]\n",
    "#ASSMING IT IS AVERAGE ACCORDING TO COUNTY ENTRIES\n",
    "number_of_counties=len(df1.loc[df1['County']==sorted_counties_population.index[0]])\n",
    "average=dense_county/number_of_counties\n",
    "print(sorted_counties_population.index[0],\": \",dense_county)\n",
    "print(number_of_counties,sorted_counties_population.index[0])\n",
    "print(average)"
   ]
  },
  {
   "cell_type": "code",
   "execution_count": 145,
   "id": "a3ec32dd-7cf6-4fe0-8ac3-98fecf3e87d3",
   "metadata": {},
   "outputs": [
    {
     "name": "stdout",
     "output_type": "stream",
     "text": [
      "Lamu :  101483\n",
      "162 Lamu\n",
      "626.4382716049382\n"
     ]
    }
   ],
   "source": [
    "# Challenge 8\n",
    "# What was the average population of the the most sparsely populated county in Kenya?\n",
    "counties_population=df1.groupby('County')['Total'].sum()\n",
    "sorted_counties_population=counties_population.sort_values(ascending=False)\n",
    "sparse_county_pop=sorted_counties_population.iloc[-1]\n",
    "sparse_county=sorted_counties_population.index[-1]\n",
    "number_of_counties=len(df1.loc[df1['County']==sparse_county])\n",
    "average=sparse_county_pop/number_of_counties\n",
    "print(sparse_county,\": \",sparse_county_pop)\n",
    "print(number_of_counties,sparse_county)\n",
    "print(average)"
   ]
  },
  {
   "cell_type": "code",
   "execution_count": 151,
   "id": "4a9f84e3-4fab-4393-a886-63fa38e9d338",
   "metadata": {},
   "outputs": [
    {
     "name": "stdout",
     "output_type": "stream",
     "text": [
      "Busia pop was 743946\n"
     ]
    }
   ],
   "source": [
    "# Challenge 9\n",
    "# What was the total population of Busia County?\n",
    "counties_pop=df.groupby('County')['Total'].sum()\n",
    "busia_pop=counties_pop['Busia']\n",
    "print(f\"Busia pop was {busia_pop}\")"
   ]
  },
  {
   "cell_type": "code",
   "execution_count": 167,
   "id": "46a0e0a5-dcd6-4533-96d2-d37534a7930a",
   "metadata": {},
   "outputs": [
    {
     "name": "stdout",
     "output_type": "stream",
     "text": [
      "average age in busia was: 20.739663981043293\n",
      "there were 17217 people aged 20 years iin Busia\n"
     ]
    }
   ],
   "source": [
    "# Challenge 10\n",
    "# What was the average age of person in Busia County? How many people of this age were in Busia County?\n",
    "busia_data=df1.loc[df['County']==\"Busia\",['County','Age_years','Total']]\n",
    "average_age=np.sum(busia_data['Age_years']*busia_data['Total'])/np.sum(busia_data['Total'])\n",
    "print(f\"average age in busia was: {average_age}\")\n",
    "age_average_age_people=busia_data.loc[busia_data['Age_years']==int(average_age),'Total'].sum()\n",
    "print(f\"there were {age_average_age_people} people aged {int(average_age)} years iin Busia\")"
   ]
  },
  {
   "cell_type": "code",
   "execution_count": 189,
   "id": "d56573e0-e53f-42dc-bd67-1a567baf1d83",
   "metadata": {},
   "outputs": [
    {
     "name": "stdout",
     "output_type": "stream",
     "text": [
      "total pop of teso south was: 137863\n"
     ]
    }
   ],
   "source": [
    "# Challenge 11\n",
    "# What was the Total population of Teso South District?\n",
    "district_pop=df1.groupby('District')['Total'].sum()\n",
    "pop_teso=district_pop.loc['TESO SOUTH']\n",
    "#df1.loc[df1['District']==\"TESO SOUTH\"]\n",
    "print(f\"total pop of teso south was: {pop_teso}\")"
   ]
  },
  {
   "cell_type": "code",
   "execution_count": 197,
   "id": "d818cfdd-a5ba-4b9a-b5d2-613aceafb466",
   "metadata": {},
   "outputs": [
    {
     "name": "stdout",
     "output_type": "stream",
     "text": [
      "total urban pop of teso was: 26149\n"
     ]
    }
   ],
   "source": [
    "# Challenge 12\n",
    "# What was the urban population of Teso South District?\n",
    "district_Urban_Rural_pop=df1.groupby(['Urban/Rural','District'])['Total'].sum()\n",
    "urban_teso=district_Urban_Rural_pop['Urban']['TESO SOUTH']\n",
    "print(f\"total urban pop of teso was: {urban_teso}\")"
   ]
  },
  {
   "cell_type": "code",
   "execution_count": 199,
   "id": "edcce394-bb91-4396-9ede-6883e8f36831",
   "metadata": {},
   "outputs": [
    {
     "name": "stdout",
     "output_type": "stream",
     "text": [
      "total urban pop of teso was: 111714\n"
     ]
    }
   ],
   "source": [
    "# Challenge 13\n",
    "# What was the rural population of Teso South District?\n",
    "district_Urban_Rural_pop=df1.groupby(['Urban/Rural','District'])['Total'].sum()\n",
    "rural_teso=district_Urban_Rural_pop['Rural']['TESO SOUTH']\n",
    "print(f\"total urban pop of teso was: {rural_teso}\")"
   ]
  },
  {
   "cell_type": "code",
   "execution_count": 198,
   "id": "0092462a-bb70-4530-bbcd-bd364c47cde8",
   "metadata": {},
   "outputs": [
    {
     "data": {
      "text/plain": [
       "137863"
      ]
     },
     "execution_count": 198,
     "metadata": {},
     "output_type": "execute_result"
    }
   ],
   "source": [
    "district_Urban_Rural_pop['Urban']['TESO SOUTH']+district_Urban_Rural_pop['Rural']['TESO SOUTH']"
   ]
  },
  {
   "cell_type": "code",
   "execution_count": 202,
   "id": "fd8aaef2-777d-41e7-a7fa-962356997bfc",
   "metadata": {},
   "outputs": [
    {
     "name": "stdout",
     "output_type": "stream",
     "text": [
      "people aged from 60 years were: 1925773\n"
     ]
    }
   ],
   "source": [
    "# Challenge 14\n",
    "# What was the population of people aged 60 and above in Kenya?\n",
    "age60=df1.loc[df1['Age_years']>=60,'Total'].sum()\n",
    "print(f\"people aged from 60 years were: {age60}\")"
   ]
  },
  {
   "cell_type": "code",
   "execution_count": 205,
   "id": "f145182d-c3c4-4c81-ad3d-a2b81a03158d",
   "metadata": {},
   "outputs": [
    {
     "name": "stdout",
     "output_type": "stream",
     "text": [
      "urban pop in kenya was: 12487375\n"
     ]
    }
   ],
   "source": [
    "# Challenge 15\n",
    "# What was the urban population in Kenya?\n",
    "urban_pop=df.groupby(\"Urban/Rural\")['Total'].sum()['Urban']\n",
    "print(f\"urban pop in kenya was: {urban_pop}\")"
   ]
  },
  {
   "cell_type": "code",
   "execution_count": null,
   "id": "63a17452-8ad0-481c-991e-fd6a26a73c96",
   "metadata": {},
   "outputs": [],
   "source": []
  }
 ],
 "metadata": {
  "kernelspec": {
   "display_name": "Python 3 (ipykernel)",
   "language": "python",
   "name": "python3"
  },
  "language_info": {
   "codemirror_mode": {
    "name": "ipython",
    "version": 3
   },
   "file_extension": ".py",
   "mimetype": "text/x-python",
   "name": "python",
   "nbconvert_exporter": "python",
   "pygments_lexer": "ipython3",
   "version": "3.10.12"
  }
 },
 "nbformat": 4,
 "nbformat_minor": 5
}
